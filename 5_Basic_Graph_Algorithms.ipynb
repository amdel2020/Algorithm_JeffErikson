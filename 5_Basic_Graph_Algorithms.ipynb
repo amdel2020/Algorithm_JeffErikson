{
 "cells": [
  {
   "cell_type": "markdown",
   "metadata": {},
   "source": [
    "3 - A graph (V,E) is bipartite if the vertices V can be partitioned into two subsets L and R, such that every edge has one vertex in L and the other in R.\n",
    "\n",
    "    (a) Prove that every tree is a bipartite graph.\n",
    "    \n",
    "    (b) Prove that a graph G is bipartite if and only if every cycle in G has an even number           of edges.\n",
    "    \n",
    "    (c) Describe and analyze an efficient algorithm that determines whether a given undirected         graph is bipartite."
   ]
  },
  {
   "cell_type": "code",
   "execution_count": 3,
   "metadata": {},
   "outputs": [
    {
     "name": "stdout",
     "output_type": "stream",
     "text": [
      "True\n"
     ]
    }
   ],
   "source": [
    "from collections import defaultdict, deque\n",
    "\n",
    "class Graph:\n",
    "    \n",
    "    def __init__(self, vertices):\n",
    "        self.V = vertices\n",
    "        self.graph = defaultdict(list)\n",
    "        self.color_arr = [-1 for i in range(self.V)]\n",
    "    \n",
    "    def addEdge(self,u,v):\n",
    "        self.graph[u].append(v)\n",
    "        self.graph[v].append(u)\n",
    "    \n",
    "    def isBipartiteUtil(self, src):\n",
    "        queue = deque([src])\n",
    "        \n",
    "        while queue:\n",
    "            u = queue.popleft()\n",
    "            \n",
    "            if u in graph[u]:\n",
    "                return False\n",
    "            \n",
    "            for v in graph[u]:\n",
    "                if self.color_arr[v] == -1:\n",
    "                    self.color_arr[v] = 1 - self.color_arr[u]\n",
    "                    queue.append(v)\n",
    "                elif self.color_arr[v] == self.color_arr[u]:\n",
    "                    return False\n",
    "        \n",
    "        return True\n",
    "            \n",
    "            \n",
    "    \n",
    "    def isBipartite(self):\n",
    "        for i in range(self.V):\n",
    "            if self.color_arr[i] == -1:\n",
    "                if not self.isBipartiteUtil(i):\n",
    "                    return False\n",
    "        return True\n",
    "\n",
    "g = Graph(6)\n",
    "g.addEdge(1,2)\n",
    "g.addEdge(2,3)\n",
    "g.addEdge(3,4)\n",
    "g.addEdge(4,5)\n",
    "g.addEdge(5,6)\n",
    "g.addEdge(6,1)\n",
    "\n",
    "result = g.isBipartite()\n",
    "print(result)"
   ]
  },
  {
   "cell_type": "markdown",
   "metadata": {},
   "source": [
    "4 - Whenever groups of pigeons gather, they instinctively establish a pecking order. For any pair of pigeons, one pigeon always pecks the other, driving it away from food or potential mates. The same pair of pigeons always chooses the same pecking order, even after years of separation, no matter what other pigeons are around. Surprisingly, the overall pecking order can contain cycles—for example, pigeon i pecks pigeon j, which pecks pigeon k, which pecks pigeon l, which pecks pigeon i.\n",
    "\n",
    "    (a) Prove that any finite population of pigeons can be placed in a procession (perhaps a parade?) so that each pigeon pecks the preceding pigeon’s posterior.\n",
    "    \n",
    "    (b) Suppose you are given a directed graph representing the pecking re- lationships among a set of n pigeons. The graph contains one vertex per pigeon, and it contains an edge i􏰃j if and only if pigeon i pecks pigeon j. Describe and analyze an algorithm to compute a pecking order for the pigeons, as guaranteed by part (a).\n",
    "    \n",
    "    (c) Prove that for any set of at least three pigeons, either the pecking order described in part (a) is unique, or there are three pigeons i, j, and k, such that pigeon i pecks pigeon j, which pecks pigeon k, which pecks pigeon i."
   ]
  }
 ],
 "metadata": {
  "kernelspec": {
   "display_name": "Python 3",
   "language": "python",
   "name": "python3"
  },
  "language_info": {
   "codemirror_mode": {
    "name": "ipython",
    "version": 3
   },
   "file_extension": ".py",
   "mimetype": "text/x-python",
   "name": "python",
   "nbconvert_exporter": "python",
   "pygments_lexer": "ipython3",
   "version": "3.7.2"
  }
 },
 "nbformat": 4,
 "nbformat_minor": 2
}
