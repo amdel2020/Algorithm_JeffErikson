{
 "cells": [
  {
   "cell_type": "markdown",
   "metadata": {},
   "source": [
    "3. A graph (V,E) is bipartite if the vertices V can be partitioned into two subsets L and R, such that every edge has one vertex in L and the other in R.\n",
    "    (a) Prove that every tree is a bipartite graph.\n",
    "    \n",
    "    (b) Prove that a graph G is bipartite if and only if every cycle in G has an even number           of edges.\n",
    "    \n",
    "    (c) Describe and analyze an efficient algorithm that determines whether a given undirected         graph is bipartite."
   ]
  },
  {
   "cell_type": "code",
   "execution_count": 1,
   "metadata": {},
   "outputs": [
    {
     "name": "stdout",
     "output_type": "stream",
     "text": [
      "True\n"
     ]
    }
   ],
   "source": [
    "from collections import defaultdict\n",
    "\n",
    "def is_graph_bipartite(graph):\n",
    "    return True\n",
    "\n",
    "graph = defaultdict(list)\n",
    "\n",
    "result = is_graph_bipartite(graph)\n",
    "\n",
    "print(result)\n",
    "\n"
   ]
  },
  {
   "cell_type": "code",
   "execution_count": null,
   "metadata": {},
   "outputs": [],
   "source": []
  }
 ],
 "metadata": {
  "kernelspec": {
   "display_name": "Python 3",
   "language": "python",
   "name": "python3"
  },
  "language_info": {
   "codemirror_mode": {
    "name": "ipython",
    "version": 3
   },
   "file_extension": ".py",
   "mimetype": "text/x-python",
   "name": "python",
   "nbconvert_exporter": "python",
   "pygments_lexer": "ipython3",
   "version": "3.7.2"
  }
 },
 "nbformat": 4,
 "nbformat_minor": 2
}
