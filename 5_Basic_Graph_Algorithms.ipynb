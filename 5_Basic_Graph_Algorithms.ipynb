{
 "cells": [
  {
   "cell_type": "markdown",
   "metadata": {},
   "source": [
    "3 - A graph (V,E) is bipartite if the vertices V can be partitioned into two subsets L and R, such that every edge has one vertex in L and the other in R.\n",
    "\n",
    "    (a) Prove that every tree is a bipartite graph.\n",
    "    \n",
    "    (b) Prove that a graph G is bipartite if and only if every cycle in G has an even number           of edges.\n",
    "    \n",
    "    (c) Describe and analyze an efficient algorithm that determines whether a given undirected         graph is bipartite."
   ]
  },
  {
   "cell_type": "code",
   "execution_count": 3,
   "metadata": {},
   "outputs": [
    {
     "name": "stdout",
     "output_type": "stream",
     "text": [
      "True\n"
     ]
    }
   ],
   "source": [
    "from collections import defaultdict, deque\n",
    "\n",
    "class Graph:\n",
    "    \n",
    "    def __init__(self, vertices):\n",
    "        self.V = vertices\n",
    "        self.graph = defaultdict(list)\n",
    "        self.color_arr = [-1 for i in range(self.V)]\n",
    "    \n",
    "    def addEdge(self,u,v):\n",
    "        self.graph[u].append(v)\n",
    "        self.graph[v].append(u)\n",
    "    \n",
    "    def isBipartiteUtil(self, src):\n",
    "        queue = deque([src])\n",
    "        \n",
    "        while queue:\n",
    "            u = queue.popleft()\n",
    "            \n",
    "            if u in graph[u]:\n",
    "                return False\n",
    "            \n",
    "            for v in graph[u]:\n",
    "                if self.color_arr[v] == -1:\n",
    "                    self.color_arr[v] = 1 - self.color_arr[u]\n",
    "                    queue.append(v)\n",
    "                elif self.color_arr[v] == self.color_arr[u]:\n",
    "                    return False\n",
    "        \n",
    "        return True\n",
    "            \n",
    "            \n",
    "    \n",
    "    def isBipartite(self):\n",
    "        for i in range(self.V):\n",
    "            if self.color_arr[i] == -1:\n",
    "                if not self.isBipartiteUtil(i):\n",
    "                    return False\n",
    "        return True\n",
    "\n",
    "g = Graph(6)\n",
    "g.addEdge(1,2)\n",
    "g.addEdge(2,3)\n",
    "g.addEdge(3,4)\n",
    "g.addEdge(4,5)\n",
    "g.addEdge(5,6)\n",
    "g.addEdge(6,1)\n",
    "\n",
    "result = g.isBipartite()\n",
    "print(result)"
   ]
  },
  {
   "cell_type": "code",
   "execution_count": null,
   "metadata": {},
   "outputs": [],
   "source": []
  }
 ],
 "metadata": {
  "kernelspec": {
   "display_name": "Python 3",
   "language": "python",
   "name": "python3"
  },
  "language_info": {
   "codemirror_mode": {
    "name": "ipython",
    "version": 3
   },
   "file_extension": ".py",
   "mimetype": "text/x-python",
   "name": "python",
   "nbconvert_exporter": "python",
   "pygments_lexer": "ipython3",
   "version": "3.7.2"
  }
 },
 "nbformat": 4,
 "nbformat_minor": 2
}
